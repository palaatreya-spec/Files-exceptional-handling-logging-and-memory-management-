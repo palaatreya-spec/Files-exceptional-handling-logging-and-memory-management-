{
  "nbformat": 4,
  "nbformat_minor": 0,
  "metadata": {
    "colab": {
      "provenance": []
    },
    "kernelspec": {
      "name": "python3",
      "display_name": "Python 3"
    },
    "language_info": {
      "name": "python"
    }
  },
  "cells": [
    {
      "cell_type": "markdown",
      "source": [
        "Q1.What is the difference between interpreted and compiled languages?\n",
        "   - Interpreted and compiled languages differ mainly in how their code is executed by a computer. In compiled languages, the source code is translated into machine code by a compiler before execution. This machine code is stored as an independent executable file, allowing the program to run directly on the hardware, which generally makes compiled languages faster in execution. In contrast, interpreted languages are executed line by line by an interpreter at runtime, without producing a separate machine code file. This makes development and debugging easier, but typically results in slower execution compared to compiled languages.\n",
        "\n",
        "\n",
        "Q2.What is exception handling in Python?\n",
        "   - xception handling in Python is a mechanism that allows programmers to manage errors that occur during program execution without causing the program to crash. It uses try and except blocks, where code that might raise an error is placed in the try block, and specific actions to handle those errors are written in the except block. Additionally, an optional else block can execute code when no exceptions occur, and a finally block runs code that should execute regardless of whether an exception happened or not. This system helps ensure that the program runs smoothly by catching and handling errors such as dividing by zero or invalid input, making programs more robust and user-friendly.\n",
        "\n",
        "Q3.What is the purpose of the finally block in exception handling?\n",
        "   - The purpose of the finally block in exception handling is to ensure that certain code runs no matter what happens in the try and except blocks. Whether an exception occurs or not, the finally block always executes, making it ideal for performing cleanup actions such as closing files, releasing resources, or closing database connections. This guarantees that essential tasks are completed, preventing resource leaks or other unexpected behavior, and helps maintain the stability and reliability of the program.      \n",
        "\n",
        "Q4.What is logging in Python?\n",
        "   - Logging in Python is a way to track events that happen while a program is running. It helps developers record important information, such as errors, warnings, or general messages, into a file or display them on the console. By using Python’s built-in logging module, developers can create logs that help debug the program, monitor its behavior, and keep a record of issues for future analysis. Logging is more flexible and powerful than using simple print statements because it allows setting different levels of importance (like DEBUG, INFO, WARNING, ERROR, and CRITICAL), writing logs to files, formatting log messages, and controlling where and how logs are output, making programs easier to maintain and troubleshoot.\n",
        "\n",
        "Q5.What is the significance of the __del__ method in Python?\n",
        "   - The __del__ method in Python is a special method called a destructor, and it is automatically invoked when an object is about to be destroyed or garbage collected. Its main significance is to perform cleanup actions, such as closing files, releasing network connections, or freeing other external resources that the object may have acquired during its lifetime. By defining the __del__ method inside a class, developers can ensure that important finalization steps happen before the object is removed from memory, helping to manage resources more safely and avoid memory leaks. However, reliance on __del__ is generally discouraged in favor of using context managers (with statements), because the timing of its execution is unpredictable due to Python’s garbage collection mechanism.\n",
        "\n",
        "Q6.What is the difference between import and from ... import in Python?\n",
        "   - import and from ... import are both used to bring modules and their functionality into a program, but they work differently. When using import module_name, the entire module is imported, and to access its functions or classes, you need to prefix them with the module name, like module_name.function(). In contrast, from module_name import function_name imports only a specific function, class, or variable directly into the current namespace, allowing you to use it without the module prefix, simply by calling function_name(). The main difference is that import keeps the module namespace separate, reducing name conflicts, while from ... import allows more direct access but can potentially lead to name clashes if different modules have functions or variables with the same name.     \n",
        "\n",
        "Q7.How can you handle multiple exceptions in Python?\n",
        "   - Multiple exceptions can be handled by using a single except block with parentheses to group the exception types, or by using multiple except blocks for each specific exception. When grouping exceptions, you write except (ExceptionType1, ExceptionType2):, which allows the same block of code to run if any of the listed exceptions occur. Alternatively, using multiple except blocks lets you handle each exception type differently, providing specific responses or recovery actions depending on the error. This approach makes the program more robust by anticipating different kinds of errors and handling them appropriately.\n",
        "\n",
        "Q8.What is the purpose of the with statement when handling files in Python?\n",
        "   - The purpose of the with statement when handling files in Python is to simplify file management by automatically handling resource cleanup. When using with open('file.txt', 'r') as file:, Python opens the file and ensures that it is properly closed after the block of code is executed, even if an error occurs during file operations. This prevents resource leaks, like leaving a file open, which can cause problems later. The with statement makes the code cleaner, safer, and more readable by managing the file’s context automatically without needing to explicitly call file.close().\n",
        "\n",
        "Q9.What is the difference between multithreading and multiprocessing?\n",
        "   - Multithreading and multiprocessing are both techniques to run tasks concurrently, but they differ in how they manage execution.Multithreading involves multiple threads running within the same process, sharing the same memory space. It is useful for I/O-bound tasks (like reading files or network operations) where threads can run concurrently while waiting for external resources. However, in Python, due to the Global Interpreter Lock (GIL), only one thread executes Python bytecode at a time, which limits multithreading’s effectiveness for CPU-bound tasks.On the other hand, multiprocessing involves running multiple processes, each with its own separate memory space and Python interpreter. This allows true parallelism, making multiprocessing ideal for CPU-bound tasks (like heavy computations), as each process can run independently on different CPU cores without being restricted by the GIL. Multiprocessing is more memory-intensive but provides better performance for parallel computation.     \n",
        "\n",
        "Q10.What are the advantages of using logging in a program?  \n",
        "    - The advantages of using logging in a program are that it helps track the program’s execution, making it easier to debug and monitor behavior over time. Logging provides a structured way to record important events, such as errors, warnings, or informational messages, without using print statements. It supports different severity levels (DEBUG, INFO, WARNING, ERROR, CRITICAL), allowing developers to control the amount and type of information recorded. Logs can be saved to files, sent to remote servers, or displayed on the console, making it easier to analyze problems later. Additionally, logging helps maintain a permanent record of application activity, which is useful for auditing, troubleshooting, and improving the reliability of software in production environments.\n",
        "\n",
        "Q11.What is memory management in Python?  \n",
        "    - Memory management in Python refers to the process of allocating, using, and releasing memory during a program’s execution. Python handles memory management automatically through its built-in memory manager, which allocates memory for objects like variables, data structures, and functions. It also uses a technique called garbage collection to automatically detect and clean up objects that are no longer in use, freeing memory and preventing memory leaks. Python keeps track of object references, and when an object’s reference count drops to zero, the memory occupied by that object is reclaimed. This system simplifies development by removing the need for manual memory allocation and deallocation, helping programmers focus on writing functional code without worrying about low-level memory handling.\n",
        "\n",
        "Q12.What are the basic steps involved in exception handling in Python?    \n",
        "    - The basic steps involved in exception handling in Python are:\n",
        "\n",
        "Try Block: First, the code that might cause an exception is placed inside a try block. Python executes this code and monitors for any exceptions.   \n",
        "\n",
        "Except Block: If an exception occurs in the try block, the flow of control moves to the except block, where the exception is caught and handled. You can specify particular exception types to handle different errors specifically.       \n",
        "\n",
        "Else Block (Optional): The else block runs if no exception occurs in the try block. It is useful for code that should execute only when the try block is successful.\n",
        "\n",
        "Finally Block (Optional): The finally block always executes, regardless of whether an exception occurred or not. It is commonly used to release resources like closing files or network connections.\n",
        "\n",
        "These steps help manage errors gracefully, allowing the program to continue running without crashing.   \n",
        "\n",
        "Q13.Why is memory management important in Python?\n",
        "   - Memory management is important in Python because it ensures efficient use of system resources, prevents memory leaks, and maintains program stability. Since Python automatically handles memory allocation and deallocation, developers don’t have to manage memory manually, which reduces the chance of errors like accessing invalid memory or forgetting to free unused memory. Proper memory management helps Python programs run smoothly by reclaiming memory from objects that are no longer needed through garbage collection. This prevents the program from consuming excessive memory over time, which could slow down the system or cause it to crash, especially in large or long-running applications. Overall, good memory management makes programs more efficient, reliable, and easier to maintain.\n",
        "\n",
        "Q14.What is the role of try and except in exception handling?   \n",
        "     -The role of try and except in exception handling is to allow a program to detect and respond to errors gracefully. The try block contains the code that might raise an exception during execution, such as dividing by zero or opening a non-existent file. If an error occurs while executing the try block, Python stops running that block and immediately transfers control to the except block. The except block contains code that handles the error, allowing the program to continue running or display a meaningful message instead of crashing. This structure helps prevent unexpected program termination and provides a controlled way to manage errors, improving the program’s robustness and user experience.\n",
        "\n",
        "Q15.How does Python's garbage collection system work?   \n",
        "    - Python’s garbage collection system works by automatically managing memory to free up space used by objects that are no longer needed, preventing memory leaks and improving efficiency. It primarily relies on reference counting, where every object keeps track of how many references point to it. When the reference count of an object drops to zero—meaning nothing in the program is using that object anymore—Python immediately deallocates its memory. However, reference counting alone cannot handle situations where objects reference each other in a cycle, making their reference counts non-zero despite being unreachable. To solve this, Python includes a cyclic garbage collector that periodically searches for such reference cycles and cleans them up by breaking the cycles and freeing the associated memory. This combination of reference counting and cycle detection helps Python manage memory automatically, so developers don’t have to manually allocate or release memory, making programs more efficient, reliable, and easier to maintain.\n",
        "\n",
        "Q16.What is the purpose of the else block in exception handling?      \n",
        "    - The purpose of the else block in exception handling is to execute a section of code only when no exceptions occur in the preceding try block. It provides a way to separate the normal, error-free execution logic from the error-handling code in the except block. By using an else block, programmers can clearly indicate which actions should happen when the try block succeeds, improving code readability and structure. This ensures that certain operations, such as processing results or performing follow-up tasks, are executed only if the program runs without encountering any exceptions.\n",
        "\n",
        "Q17.What are the common logging levels in Python?    \n",
        "    - The common logging levels in Python are used to indicate the severity or importance of messages recorded by the program. They include DEBUG, which provides detailed diagnostic information useful during development; INFO, which records general information about program execution; WARNING, which signals a potential problem or unexpected situation that does not stop the program; ERROR, which indicates a serious issue that has caused a part of the program to fail; and CRITICAL, which represents very severe errors that may prevent the program from continuing. These levels allow developers to filter and prioritize log messages, making it easier to monitor, debug, and maintain applications effectively.\n",
        "\n",
        "Q18.What is the difference between os.fork() and multiprocessing in Python?    \n",
        "    - In Python, os.fork() and the multiprocessing module both create new processes, but they differ in abstraction, platform support, and ease of use. os.fork() is a low-level system call available only on Unix-based systems that creates a child process by duplicating the current process, including its memory space. The child process runs independently, but managing communication and resource sharing requires manual handling. In contrast, the multiprocessing module provides a high-level, cross-platform interface for creating and managing processes. It supports Windows as well as Unix, offers built-in mechanisms for inter-process communication and synchronization, and simplifies parallel programming with features like process pools and shared memory. Thus, multiprocessing is more versatile, safer, and easier to use than os.fork(), especially for complex or portable applications.  \n",
        "\n",
        "Q19. What is the importance of closing a file in Python?     \n",
        "     - Closing a file in Python is important because it ensures that all resources associated with the file, such as memory buffers and file handles, are properly released. When a file is open, data may be temporarily stored in memory before being written to disk, and failing to close the file can lead to incomplete writes or data loss. Additionally, keeping files open unnecessarily can exhaust system resources, causing errors or slowing down the program. By closing a file using the close() method or by using a with statement, Python ensures that the file is safely finalized, data is properly saved, and resources are freed, which helps maintain program stability and efficiency.\n",
        "\n",
        "Q20.What is the difference between file.read() and file.readline() in Python?       \n",
        "    - file.read() and file.readline() are both used to read data from a file, but they work differently. The file.read() method reads the entire contents of the file (or a specified number of bytes) into a single string, which can be useful when you want to process the whole file at once. In contrast, file.readline() reads the file one line at a time, returning a single line as a string with each call. This makes readline() more memory-efficient for large files, as it does not load the entire file into memory, and it allows processing files line by line, which is often useful for parsing or analyzing structured text data.\n",
        "\n",
        "Q21.What is the logging module in Python used for?    \n",
        "    - The logging module in Python is used for recording events and messages that occur during the execution of a program. It provides a flexible framework to track information such as errors, warnings, debugging messages, and general program flow, which helps developers monitor, debug, and maintain applications. Unlike simple print statements, the logging module supports different severity levels (DEBUG, INFO, WARNING, ERROR, CRITICAL), allows writing logs to files or external systems, and enables customizable formatting and filtering of messages. By using logging, developers can create a permanent record of program activity, making it easier to diagnose issues, analyze behavior, and ensure reliable operation in production environments.\n",
        "\n",
        "Q22.What is the os module in Python used for in file handling?   \n",
        "    - The os module in Python is used in file handling to interact with the operating system and perform tasks that go beyond simple reading and writing of files. It provides functions to create, remove, and rename files and directories, check file existence, get file properties, and navigate the file system. For example, os.mkdir() creates a directory, os.remove() deletes a file, and os.path.exists() checks whether a file or directory exists. By using the os module, Python programs can manage files and directories dynamically, automate file system operations, and work with file paths in a platform-independent way, making file handling more powerful and flexible.\n",
        "\n",
        "Q23.What are the challenges associated with memory management in Python?   \n",
        "    - The challenges associated with memory management in Python arise primarily from the need to efficiently allocate and free memory while ensuring program stability and performance. One challenge is handling reference cycles, where objects reference each other, preventing their reference counts from dropping to zero and causing memory to remain allocated unnecessarily. Although Python’s cyclic garbage collector addresses this, detecting and cleaning up cycles adds overhead. Another challenge is memory fragmentation, which can occur when objects of varying sizes are created and destroyed, leading to inefficient use of memory. Additionally, Python’s automatic memory management may introduce unpredictable delays due to garbage collection running at uncertain times, which can affect performance in time-sensitive applications. Finally, managing memory for large data structures or long-running programs requires careful attention, as excessive memory usage can slow down the system or lead to crashes.\n",
        "\n",
        "Q24. How do you raise an exception manually in Python?    \n",
        "     - In Python, you can raise an exception manually using the raise statement, which allows you to create and trigger an error intentionally when a certain condition occurs. By specifying an exception type, such as ValueError, TypeError, or a custom exception class, you can provide a clear indication that something has gone wrong in your program. You can also include an optional error message to give more context about the issue. This approach is useful for enforcing constraints, validating input, or signaling unexpected situations so that they can be handled appropriately by surrounding try and except blocks, improving program reliability and readability.\n",
        "\n",
        "Q25.Why is it important to use multithreading in certain applications?        \n",
        "    - Multithreading is important in certain applications because it allows multiple tasks to run concurrently within the same program, improving responsiveness and efficiency, especially for I/O-bound operations. For example, in applications that involve file reading, network requests, or user interactions, threads can perform background tasks while the main program continues running, preventing the program from freezing or becoming unresponsive. Multithreading can also help utilize CPU resources more effectively when tasks involve waiting for external operations, reducing idle time. By enabling concurrent execution, multithreading improves performance, enhances user experience, and allows programs to handle multiple tasks simultaneously without blocking the main flow of execution.             \n",
        "\n"
      ],
      "metadata": {
        "id": "cBvqqqFzZd2n"
      }
    },
    {
      "cell_type": "code",
      "source": [
        "#Q1.How can you open a file for writing in Python and write a string to it?\n",
        "file = open(\"example.txt\", \"w\")\n",
        "file.write(\"Hello, World!\")\n",
        "file.close()\n"
      ],
      "metadata": {
        "id": "iFwJleuvjw6u"
      },
      "execution_count": 3,
      "outputs": []
    },
    {
      "cell_type": "code",
      "source": [
        "#Q2.Write a Python program to read the contents of a file and print each line?\n",
        "# Open the file in read mode\n",
        "with open(\"example.txt\", \"r\") as file:\n",
        "    for line in file:\n",
        "        print(line.strip())  # .strip() removes the newline character\n"
      ],
      "metadata": {
        "colab": {
          "base_uri": "https://localhost:8080/"
        },
        "id": "sEKA9FebkerQ",
        "outputId": "d7753c5a-d597-43a3-9b8b-a2e3213f40cc"
      },
      "execution_count": 4,
      "outputs": [
        {
          "output_type": "stream",
          "name": "stdout",
          "text": [
            "Hello, World!\n"
          ]
        }
      ]
    },
    {
      "cell_type": "code",
      "source": [
        "#Q3.How would you handle a case where the file doesn't exist while trying to open it for reading?\n",
        "try:\n",
        "    with open(\"nonexistent_file.txt\", \"r\") as file:\n",
        "        for line in file:\n",
        "            print(line.strip())\n",
        "except FileNotFoundError:\n",
        "    print(\"The file does not exist. Please check the filename and try again.\")\n"
      ],
      "metadata": {
        "colab": {
          "base_uri": "https://localhost:8080/"
        },
        "id": "pQgSLot9lEZp",
        "outputId": "b568a2ea-5c8d-461a-a2c1-d740d50d8494"
      },
      "execution_count": 5,
      "outputs": [
        {
          "output_type": "stream",
          "name": "stdout",
          "text": [
            "The file does not exist. Please check the filename and try again.\n"
          ]
        }
      ]
    },
    {
      "cell_type": "code",
      "source": [
        "#Q4.Write a Python script that reads from one file and writes its content to another file.\n",
        "# Filenames\n",
        "source_file = \"source.txt\"\n",
        "destination_file = \"destination.txt\"\n",
        "\n",
        "# Create the source file and write some content\n",
        "with open(source_file, \"w\") as src:\n",
        "    src.write(\"Hello, this is line 1.\\n\")\n",
        "    src.write(\"This is line 2.\\n\")\n",
        "    src.write(\"This is line 3.\\n\")\n",
        "\n",
        "# Read from the source file and write to the destination file\n",
        "with open(source_file, \"r\") as src, open(destination_file, \"w\") as dest:\n",
        "    for line in src:\n",
        "        dest.write(line)\n",
        "\n",
        "print(f\"Contents of '{source_file}' have been copied to '{destination_file}'.\")\n"
      ],
      "metadata": {
        "colab": {
          "base_uri": "https://localhost:8080/"
        },
        "id": "M6JVKvynlaJd",
        "outputId": "dac1a43b-ed61-4ab8-9ae5-08c82eabfe0b"
      },
      "execution_count": 7,
      "outputs": [
        {
          "output_type": "stream",
          "name": "stdout",
          "text": [
            "Contents of 'source.txt' have been copied to 'destination.txt'.\n"
          ]
        }
      ]
    },
    {
      "cell_type": "code",
      "source": [
        "#Q5. How would you catch and handle division by zero error in Python.\n",
        "try:\n",
        "    numerator = 10\n",
        "    denominator = 0\n",
        "    result = numerator / denominator\n",
        "except ZeroDivisionError:\n",
        "    print(\"Error: Cannot divide by zero!\")\n",
        "else:\n",
        "    print(\"Result is:\", result)\n"
      ],
      "metadata": {
        "colab": {
          "base_uri": "https://localhost:8080/"
        },
        "id": "U1oJo1qppC6x",
        "outputId": "16e6a6ab-f0da-4b25-cd5f-a0a0c75a38c6"
      },
      "execution_count": 8,
      "outputs": [
        {
          "output_type": "stream",
          "name": "stdout",
          "text": [
            "Error: Cannot divide by zero!\n"
          ]
        }
      ]
    },
    {
      "cell_type": "code",
      "source": [
        "#Q6.Write a Python program that logs an error message to a log file when a division by zero exception occurs.\n",
        "import logging\n",
        "\n",
        "# Configure logging to write to a file\n",
        "logging.basicConfig(filename=\"error_log.txt\",\n",
        "                    level=logging.ERROR,\n",
        "                    format=\"%(asctime)s - %(levelname)s - %(message)s\")\n",
        "\n",
        "try:\n",
        "    numerator = 10\n",
        "    denominator = 0\n",
        "    result = numerator / denominator\n",
        "except ZeroDivisionError as e:\n",
        "    logging.error(\"Division by zero occurred: %s\", e)\n",
        "    print(\"An error occurred. Check 'error_log.txt' for details.\")\n",
        "else:\n",
        "    print(\"Result is:\", result)\n"
      ],
      "metadata": {
        "colab": {
          "base_uri": "https://localhost:8080/"
        },
        "id": "lbTjTssbpSVZ",
        "outputId": "dc3c357b-3da7-4dbd-d53a-5c27a1bfbad2"
      },
      "execution_count": 9,
      "outputs": [
        {
          "output_type": "stream",
          "name": "stderr",
          "text": [
            "ERROR:root:Division by zero occurred: division by zero\n"
          ]
        },
        {
          "output_type": "stream",
          "name": "stdout",
          "text": [
            "An error occurred. Check 'error_log.txt' for details.\n"
          ]
        }
      ]
    },
    {
      "cell_type": "code",
      "source": [
        "#Q7.How do you log information at different levels (INFO, ERROR, WARNING) in Python using the logging module.\n",
        "import logging\n",
        "\n",
        "# Configure logging\n",
        "logging.basicConfig(filename=\"app_log.txt\",\n",
        "                    level=logging.INFO,\n",
        "                    format=\"%(asctime)s - %(levelname)s - %(message)s\")\n",
        "\n",
        "# Log messages at different levels\n",
        "logging.info(\"This is an informational message.\")\n",
        "logging.warning(\"This is a warning message.\")\n",
        "logging.error(\"This is an error message.\")\n"
      ],
      "metadata": {
        "colab": {
          "base_uri": "https://localhost:8080/"
        },
        "id": "Iuy1aTxGpj2M",
        "outputId": "8ac1e5c1-c976-4de9-cbe3-ec1bec911f67"
      },
      "execution_count": 10,
      "outputs": [
        {
          "output_type": "stream",
          "name": "stderr",
          "text": [
            "WARNING:root:This is a warning message.\n",
            "ERROR:root:This is an error message.\n"
          ]
        }
      ]
    },
    {
      "cell_type": "code",
      "source": [
        "#Q8.Write a program to handle a file opening error using exception handling.\n",
        "filename = \"nonexistent_file.txt\"\n",
        "\n",
        "try:\n",
        "    # Attempt to open the file in read mode\n",
        "    with open(filename, \"r\") as file:\n",
        "        content = file.read()\n",
        "        print(content)\n",
        "except FileNotFoundError:\n",
        "    print(f\"Error: The file '{filename}' does not exist.\")\n",
        "except IOError:\n",
        "    print(f\"Error: Cannot open the file '{filename}' due to an I/O error.\")\n"
      ],
      "metadata": {
        "colab": {
          "base_uri": "https://localhost:8080/"
        },
        "id": "fsxoq11ypvH4",
        "outputId": "9f037f95-b8f0-44dd-9adf-17f99a3de352"
      },
      "execution_count": 11,
      "outputs": [
        {
          "output_type": "stream",
          "name": "stdout",
          "text": [
            "Error: The file 'nonexistent_file.txt' does not exist.\n"
          ]
        }
      ]
    },
    {
      "cell_type": "code",
      "source": [
        "#Q9.How can you read a file line by line and store its content in a list in Python?\n",
        "lines = []\n",
        "with open(\"example.txt\", \"r\") as file:\n",
        "    for line in file:\n",
        "        lines.append(line.strip())  # Remove newline characters\n",
        "\n",
        "print(lines)\n"
      ],
      "metadata": {
        "colab": {
          "base_uri": "https://localhost:8080/"
        },
        "id": "tsoo85cTp9kE",
        "outputId": "324beb00-703f-4bbe-d6c1-67871c70e1a3"
      },
      "execution_count": 12,
      "outputs": [
        {
          "output_type": "stream",
          "name": "stdout",
          "text": [
            "['Hello, World!']\n"
          ]
        }
      ]
    },
    {
      "cell_type": "code",
      "source": [
        "#Q10.How can you append data to an existing file in Python?\n",
        "file = open(\"example.txt\", \"a\")\n",
        "file.write(\"Appending this line.\\n\")\n",
        "file.close()\n"
      ],
      "metadata": {
        "id": "lfk6lbNsqMfC"
      },
      "execution_count": 13,
      "outputs": []
    },
    {
      "cell_type": "code",
      "source": [
        "#Q11.Write a Python program that uses a try-except block to handle an error when attempting to access a dictionary key that doesn't exist.\n",
        "# Sample dictionary\n",
        "student = {\"name\": \"Alice\", \"age\": 20}\n",
        "\n",
        "try:\n",
        "    # Attempt to access a key that may not exist\n",
        "    grade = student[\"grade\"]\n",
        "    print(\"Grade:\", grade)\n",
        "except KeyError:\n",
        "    print(\"Error: The key 'grade' does not exist in the dictionary.\")\n"
      ],
      "metadata": {
        "colab": {
          "base_uri": "https://localhost:8080/"
        },
        "id": "XrjLbgH4qgRv",
        "outputId": "967eca69-f719-40e0-d97b-e63895e5d054"
      },
      "execution_count": 14,
      "outputs": [
        {
          "output_type": "stream",
          "name": "stdout",
          "text": [
            "Error: The key 'grade' does not exist in the dictionary.\n"
          ]
        }
      ]
    },
    {
      "cell_type": "code",
      "source": [
        "#Q12.Write a program that demonstrates using multiple except blocks to handle different types of exceptions.\n",
        "try:\n",
        "    # Input a number and divide 100 by it\n",
        "    num = int(input(\"Enter a number: \"))\n",
        "    result = 100 / num\n",
        "    print(\"Result:\", result)\n",
        "except ValueError:\n",
        "    print(\"Error: Invalid input! Please enter a valid integer.\")\n",
        "except ZeroDivisionError:\n",
        "    print(\"Error: Cannot divide by zero!\")\n",
        "except Exception as e:\n",
        "    print(f\"An unexpected error occurred: {e}\")\n"
      ],
      "metadata": {
        "colab": {
          "base_uri": "https://localhost:8080/"
        },
        "id": "c7zjZORlquq4",
        "outputId": "7e25ff3f-11ed-40e8-d592-96e0b981dfea"
      },
      "execution_count": 15,
      "outputs": [
        {
          "output_type": "stream",
          "name": "stdout",
          "text": [
            "Enter a number: 98\n",
            "Result: 1.0204081632653061\n"
          ]
        }
      ]
    },
    {
      "cell_type": "code",
      "source": [
        "#Q13.How would you check if a file exists before attempting to read it in Python?\n",
        "import os\n",
        "\n",
        "filename = \"example.txt\"\n",
        "\n",
        "if os.path.exists(filename):\n",
        "    with open(filename, \"r\") as file:\n",
        "        content = file.read()\n",
        "        print(content)\n",
        "else:\n",
        "    print(f\"The file '{filename}' does not exist.\")\n"
      ],
      "metadata": {
        "colab": {
          "base_uri": "https://localhost:8080/"
        },
        "id": "kM_wQilmq4gL",
        "outputId": "f07901e8-8eb9-4faf-ac87-ff16d12e65f9"
      },
      "execution_count": 16,
      "outputs": [
        {
          "output_type": "stream",
          "name": "stdout",
          "text": [
            "Hello, World!Appending this line.\n",
            "\n"
          ]
        }
      ]
    },
    {
      "cell_type": "code",
      "source": [
        "#Q14.Write a program that uses the logging module to log both informational and error messages.\n",
        "import logging\n",
        "\n",
        "# Configure logging\n",
        "logging.basicConfig(filename=\"app_log.txt\",\n",
        "                    level=logging.INFO,\n",
        "                    format=\"%(asctime)s - %(levelname)s - %(message)s\")\n",
        "\n",
        "# Log an informational message\n",
        "logging.info(\"Program started successfully.\")\n",
        "\n",
        "try:\n",
        "    # Example operation that may cause an error\n",
        "    numerator = 10\n",
        "    denominator = 0\n",
        "    result = numerator / denominator\n",
        "except ZeroDivisionError as e:\n",
        "    # Log an error message\n",
        "    logging.error(\"Division by zero error occurred: %s\", e)\n",
        "else:\n",
        "    logging.info(\"Division result: %s\", result)\n",
        "\n",
        "logging.info(\"Program finished execution.\")\n"
      ],
      "metadata": {
        "colab": {
          "base_uri": "https://localhost:8080/"
        },
        "id": "3vzlAvE8rMr-",
        "outputId": "04508734-1498-42bd-9c53-899f48b09bbe"
      },
      "execution_count": 17,
      "outputs": [
        {
          "output_type": "stream",
          "name": "stderr",
          "text": [
            "ERROR:root:Division by zero error occurred: division by zero\n"
          ]
        }
      ]
    },
    {
      "cell_type": "code",
      "source": [
        "#Q15.Write a Python program that prints the content of a file and handles the case when the file is empty.\n",
        "filename = \"example.txt\"\n",
        "\n",
        "try:\n",
        "    with open(filename, \"r\") as file:\n",
        "        content = file.read()\n",
        "        if content:\n",
        "            print(\"File Content:\")\n",
        "            print(content)\n",
        "        else:\n",
        "            print(f\"The file '{filename}' is empty.\")\n",
        "except FileNotFoundError:\n",
        "    print(f\"Error: The file '{filename}' does not exist.\")\n"
      ],
      "metadata": {
        "colab": {
          "base_uri": "https://localhost:8080/"
        },
        "id": "_7j9EibOreWG",
        "outputId": "786df03a-0200-4286-997c-dc6dcfd67f44"
      },
      "execution_count": 18,
      "outputs": [
        {
          "output_type": "stream",
          "name": "stdout",
          "text": [
            "File Content:\n",
            "Hello, World!Appending this line.\n",
            "\n"
          ]
        }
      ]
    },
    {
      "cell_type": "code",
      "source": [
        "#Q16.Demonstrate how to use memory profiling to check the memory usage of a small program.\n",
        "!pip install memory-profiler\n",
        "\n",
        "from memory_profiler import memory_usage\n",
        "\n",
        "def create_list():\n",
        "    # Function that consumes memory by creating a large list\n",
        "    my_list = [i for i in range(100000)]\n",
        "    return my_list\n",
        "\n",
        "if __name__ == \"__main__\":\n",
        "    # Measure memory usage while running the function\n",
        "    mem_usage = memory_usage(create_list)\n",
        "    print(\"Memory usage (MB) during execution:\", mem_usage)\n",
        "\n",
        "\n"
      ],
      "metadata": {
        "colab": {
          "base_uri": "https://localhost:8080/"
        },
        "id": "S0F2cOGArsJ2",
        "outputId": "0ee6ae7e-edfc-4f0b-d02c-a25338740666"
      },
      "execution_count": 27,
      "outputs": [
        {
          "output_type": "stream",
          "name": "stdout",
          "text": [
            "Requirement already satisfied: memory-profiler in /usr/local/lib/python3.12/dist-packages (0.61.0)\n",
            "Requirement already satisfied: psutil in /usr/local/lib/python3.12/dist-packages (from memory-profiler) (5.9.5)\n",
            "Memory usage (MB) during execution: [123.578125, 123.578125, 123.578125, 123.578125, 123.578125, 123.578125, 123.578125, 123.578125, 123.578125, 123.578125, 123.578125]\n"
          ]
        }
      ]
    },
    {
      "cell_type": "code",
      "source": [
        "#Q17.Write a Python program to create and write a list of numbers to a file, one number per line.\n",
        "# List of numbers\n",
        "numbers = [10, 20, 30, 40, 50]\n",
        "\n",
        "# Open the file in write mode\n",
        "with open(\"numbers.txt\", \"w\") as file:\n",
        "    for number in numbers:\n",
        "        file.write(f\"{number}\\n\")  # Write each number on a new line\n",
        "\n",
        "print(\"Numbers have been written to 'numbers.txt'.\")\n"
      ],
      "metadata": {
        "colab": {
          "base_uri": "https://localhost:8080/"
        },
        "id": "6IrY6ssLtSBx",
        "outputId": "db883a59-5cf9-417e-da2e-2ccb6a0f0bc5"
      },
      "execution_count": 28,
      "outputs": [
        {
          "output_type": "stream",
          "name": "stdout",
          "text": [
            "Numbers have been written to 'numbers.txt'.\n"
          ]
        }
      ]
    },
    {
      "cell_type": "code",
      "source": [
        "#Q18.How would you implement a basic logging setup that logs to a file with rotation after 1MB.\n",
        "import logging\n",
        "from logging.handlers import RotatingFileHandler\n",
        "\n",
        "# Create a rotating file handler\n",
        "handler = RotatingFileHandler(\n",
        "    \"app.log\",        # Log file name\n",
        "    maxBytes=1*1024*1024,  # 1 MB\n",
        "    backupCount=3     # Keep 3 backup files\n",
        ")\n",
        "\n",
        "# Configure logging\n",
        "logging.basicConfig(\n",
        "    level=logging.INFO,\n",
        "    format=\"%(asctime)s - %(levelname)s - %(message)s\",\n",
        "    handlers=[handler]\n",
        ")\n",
        "\n",
        "# Example log messages\n",
        "logging.info(\"This is an informational message.\")\n",
        "logging.warning(\"This is a warning message.\")\n",
        "logging.error(\"This is an error message.\")\n"
      ],
      "metadata": {
        "colab": {
          "base_uri": "https://localhost:8080/"
        },
        "id": "tm4zWdfzt2Y8",
        "outputId": "29a41abc-2e29-4036-e4eb-d61a3f840943"
      },
      "execution_count": 29,
      "outputs": [
        {
          "output_type": "stream",
          "name": "stderr",
          "text": [
            "WARNING:root:This is a warning message.\n",
            "ERROR:root:This is an error message.\n"
          ]
        }
      ]
    },
    {
      "cell_type": "code",
      "source": [
        "#Q19.Write a program that handles both IndexError and KeyError using a try-except block.\n",
        "# Sample list and dictionary\n",
        "my_list = [10, 20, 30]\n",
        "my_dict = {\"name\": \"Alice\", \"age\": 25}\n",
        "\n",
        "try:\n",
        "    # Attempt to access an index that may not exist\n",
        "    print(\"Accessing list index:\", my_list[5])\n",
        "\n",
        "    # Attempt to access a key that may not exist\n",
        "    print(\"Accessing dictionary key:\", my_dict[\"grade\"])\n",
        "\n",
        "except IndexError:\n",
        "    print(\"Error: The list index does not exist.\")\n",
        "except KeyError:\n",
        "    print(\"Error: The dictionary key does not exist.\")\n"
      ],
      "metadata": {
        "colab": {
          "base_uri": "https://localhost:8080/"
        },
        "id": "ilQIzXb9uJnY",
        "outputId": "5bac7776-bcf6-4dea-a9ff-480a659b2e7b"
      },
      "execution_count": 30,
      "outputs": [
        {
          "output_type": "stream",
          "name": "stdout",
          "text": [
            "Error: The list index does not exist.\n"
          ]
        }
      ]
    },
    {
      "cell_type": "code",
      "source": [
        "#Q20. How would you open a file and read its contents using a context manager in Python.\n",
        "filename = \"example.txt\"\n",
        "\n",
        "with open(filename, \"r\") as file:\n",
        "    content = file.read()\n",
        "\n",
        "print(\"File contents:\")\n",
        "print(content)\n"
      ],
      "metadata": {
        "colab": {
          "base_uri": "https://localhost:8080/"
        },
        "id": "2rpiQOqwuW7x",
        "outputId": "2e2723e4-a114-4ca0-a81a-dfb83be3bfa5"
      },
      "execution_count": 31,
      "outputs": [
        {
          "output_type": "stream",
          "name": "stdout",
          "text": [
            "File contents:\n",
            "Hello, World!Appending this line.\n",
            "\n"
          ]
        }
      ]
    },
    {
      "cell_type": "code",
      "source": [
        "#Q21.Write a Python program that reads a file and prints the number of occurrences of a specific word.\n",
        "# Specify the filename and the word to count\n",
        "filename = \"example.txt\"\n",
        "word_to_count = \"Python\"\n",
        "\n",
        "try:\n",
        "    with open(filename, \"r\") as file:\n",
        "        content = file.read()\n",
        "        # Count occurrences of the word (case-sensitive)\n",
        "        count = content.count(word_to_count)\n",
        "    print(f\"The word '{word_to_count}' occurs {count} times in the file.\")\n",
        "except FileNotFoundError:\n",
        "    print(f\"Error: The file '{filename}' does not exist.\")\n"
      ],
      "metadata": {
        "colab": {
          "base_uri": "https://localhost:8080/"
        },
        "id": "BKAQu41Sup_M",
        "outputId": "0f6a33c8-a6bc-492f-c9e1-ec1904d40902"
      },
      "execution_count": 32,
      "outputs": [
        {
          "output_type": "stream",
          "name": "stdout",
          "text": [
            "The word 'Python' occurs 0 times in the file.\n"
          ]
        }
      ]
    },
    {
      "cell_type": "code",
      "source": [
        "#Q22. How can you check if a file is empty before attempting to read its contents.\n",
        "import os\n",
        "\n",
        "filename = \"example.txt\"\n",
        "\n",
        "if os.path.exists(filename):\n",
        "    if os.path.getsize(filename) > 0:\n",
        "        with open(filename, \"r\") as file:\n",
        "            content = file.read()\n",
        "            print(\"File content:\")\n",
        "            print(content)\n",
        "    else:\n",
        "        print(f\"The file '{filename}' is empty.\")\n",
        "else:\n",
        "    print(f\"The file '{filename}' does not exist.\")\n"
      ],
      "metadata": {
        "id": "nBCiI00Muy7E"
      },
      "execution_count": null,
      "outputs": []
    },
    {
      "cell_type": "code",
      "source": [
        "#23.Write a Python program that writes to a log file when an error occurs during file handling.\n",
        "import logging\n",
        "\n",
        "# Configure logging to write to a file\n",
        "logging.basicConfig(filename=\"file_errors.log\",\n",
        "                    level=logging.ERROR,\n",
        "                    format=\"%(asctime)s - %(levelname)s - %(message)s\")\n",
        "\n",
        "filename = \"nonexistent_file.txt\"\n",
        "\n",
        "try:\n",
        "    with open(filename, \"r\") as file:\n",
        "        content = file.read()\n",
        "        print(content)\n",
        "except FileNotFoundError as e:\n",
        "    logging.error(\"File not found: %s\", e)\n",
        "    print(f\"Error: The file '{filename}' does not exist. Check 'file_errors.log' for details.\")\n",
        "except IOError as e:\n",
        "    logging.error(\"I/O error occurred: %s\", e)\n",
        "    print(f\"Error: Cannot read the file '{filename}'. Check 'file_errors.log' for details.\")\n"
      ],
      "metadata": {
        "colab": {
          "base_uri": "https://localhost:8080/"
        },
        "id": "nkyqY6eAvJuK",
        "outputId": "95fa2edc-7d81-47dd-eed7-9249bed2670f"
      },
      "execution_count": 33,
      "outputs": [
        {
          "output_type": "stream",
          "name": "stderr",
          "text": [
            "ERROR:root:File not found: [Errno 2] No such file or directory: 'nonexistent_file.txt'\n"
          ]
        },
        {
          "output_type": "stream",
          "name": "stdout",
          "text": [
            "Error: The file 'nonexistent_file.txt' does not exist. Check 'file_errors.log' for details.\n"
          ]
        }
      ]
    }
  ]
}